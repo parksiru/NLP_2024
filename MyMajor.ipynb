{
  "nbformat": 4,
  "nbformat_minor": 0,
  "metadata": {
    "colab": {
      "provenance": [],
      "authorship_tag": "ABX9TyP7dO7/16CDXqqdYEY7JtY0",
      "include_colab_link": true
    },
    "kernelspec": {
      "name": "python3",
      "display_name": "Python 3"
    },
    "language_info": {
      "name": "python"
    }
  },
  "cells": [
    {
      "cell_type": "markdown",
      "metadata": {
        "id": "view-in-github",
        "colab_type": "text"
      },
      "source": [
        "<a href=\"https://colab.research.google.com/github/parksiru/NLP_2024/blob/main/MyMajor.ipynb\" target=\"_parent\"><img src=\"https://colab.research.google.com/assets/colab-badge.svg\" alt=\"Open In Colab\"/></a>"
      ]
    },
    {
      "cell_type": "markdown",
      "source": [
        "# My_Major\n",
        "\n",
        "#✌️ Thank you for reading\n",
        "\n",
        "## 🎓 My Major is **Korean language education**\n",
        "## 📚 My Major is to learn about the Korean language and practice **how to teach students**\n",
        "\n",
        "## The Korean language area that i learn can be divided into **five categories**✋\n",
        "\n",
        "### **1. Reading**\n",
        "\n",
        "### **2. Writing**\n",
        "\n",
        "### **3. Listening**\n",
        "\n",
        "### **4. Grammar**\n",
        "\n",
        "### **5. Literature**\n",
        "\n",
        "## 📕 After learning these five areas, I also learn how to teach them\n",
        "### ex) grammatical theory 👉 grammar education theory\n",
        "\n",
        "# **Why my major is Korean language education**\n",
        "- I like Korean grammar\n",
        "- I like Korean literature\n",
        "\n",
        "## I always enjoyed studying grammar also liked to teach my classmates\n",
        "\n",
        "##**It is more difficult to learn in college but i will study hard and become a good teacher**\n",
        "\n"
      ],
      "metadata": {
        "id": "qyLktu13STVd"
      }
    }
  ]
}